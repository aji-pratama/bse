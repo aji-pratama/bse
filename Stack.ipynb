{
 "cells": [
  {
   "cell_type": "markdown",
   "id": "0bb6919e",
   "metadata": {},
   "source": [
    "# Stack\n",
    "\n",
    "Misalnya kita memiliki setumpuk buku yang bagus dan rapi! Jika kita ingin mengambil sebuah buku dari tumpukan ini, kita dapat mengambil buku itu di atas. Mengambil buku dari bawah agak genting dan kami tidak ingin menjatuhkan seluruh tumpukan. Oleh karena itu, kami akan menurunkan buku teratas di tumpukan dan membacanya atau melakukan apa pun yang ingin kami lakukan dengannya.\n",
    "\n",
    "Misalnya kita ingin mengambil Buku A. Itu ada di bagian bawah tumpukan, jadi kita perlu mengambil Buku D, meletakkannya, lalu melakukan hal yang sama untuk Buku C dan Buku B, dan kemudian kita dapat mengakses Buku SEBUAH.\n",
    "\n",
    "Ini adalah ide utama dari tumpukan. Tumpukan struktur data sangat mirip dengan tumpukan fisik yang kemungkinan besar Anda kenal. Struktur data tumpukan memungkinkan kita untuk menempatkan artefak, variabel, atau objek pemrograman apa pun di atasnya, seperti contoh tumpukan yang memungkinkan kita untuk meletakkan buku di dalamnya."
   ]
  },
  {
   "cell_type": "markdown",
   "id": "dccbc614",
   "metadata": {},
   "source": [
    "### Push\n",
    "Operasi untuk memasukkan elemen dalam stack disebut push. Saat kita memasukan buku di atas stack/tumpukan, kita meletakkan buku di elemen atas sebelumnya yang berarti buku baru menjadi elemen teratas. Inilah yang kami maksud ketika kami menggunakan operasi dorong, kami mendorong elemen ke tumpukan. Kami memasukkan elemen ke tumpukan dan elemen terakhir yang akan didorong adalah bagian atas tumpukan yang baru.\n",
    "\n",
    "### Pop\n",
    "Ada operasi lain yang bisa kita lakukan di stack, popping. Popping adalah saat kita mengambil bagian atas buku dari tumpukan dan meletakkannya. Ini menyiratkan bahwa ketika kita menghapus elemen dari tumpukan, tumpukan mengikuti properti First-In, Last Out. Ini berarti bahwa elemen teratas, yang terakhir disisipkan, dihapus saat kita melakukan operasi pop.\n",
    "\n",
    "Push dan Pop adalah dua rutinitas mendasar yang kita perlukan untuk struktur data ini.\n",
    "\n",
    "### Peek\n",
    "Hal lain yang dapat kita lakukan adalah melihat elemen teratas tumpukan sehingga kita dapat menanyakan struktur data: \"Apa elemen teratas?\" dan itu dapat memberikan itu kepada kami menggunakan operasi intip. Perhatikan bahwa operasi intip tidak menghapus elemen teratas, ini hanya mengembalikannya.\n",
    "\n",
    "Kita juga dapat memeriksa apakah tumpukan itu kosong atau tidak, dan beberapa hal lain juga, yang akan muncul saat kami menerapkannya."
   ]
  },
  {
   "cell_type": "code",
   "execution_count": 16,
   "id": "39d11d02",
   "metadata": {},
   "outputs": [],
   "source": [
    "class Stack:\n",
    "    \n",
    "    def __init__(self):\n",
    "        self.items = []\n",
    "\n",
    "    def push(self, item):\n",
    "        self.items.append(item)\n",
    "        \n",
    "    def pop(self):\n",
    "        return self.items.pop()\n",
    "\n",
    "    def is_empty(self):\n",
    "        return self.items == []\n",
    "\n",
    "    def peek(self):\n",
    "        if not self.is_empty():\n",
    "            return self.items[-1]\n",
    "        \n",
    "    def get_stack(self):\n",
    "        return self.items\n",
    "    "
   ]
  },
  {
   "cell_type": "code",
   "execution_count": 11,
   "id": "462864cb",
   "metadata": {},
   "outputs": [
    {
     "data": {
      "text/plain": [
       "True"
      ]
     },
     "execution_count": 11,
     "metadata": {},
     "output_type": "execute_result"
    }
   ],
   "source": [
    "stack = Stack()\n",
    "stack.is_empty()"
   ]
  },
  {
   "cell_type": "code",
   "execution_count": 12,
   "id": "6a83e7e5",
   "metadata": {},
   "outputs": [
    {
     "data": {
      "text/plain": [
       "['A', 'B', 'D', 'C']"
      ]
     },
     "execution_count": 12,
     "metadata": {},
     "output_type": "execute_result"
    }
   ],
   "source": [
    "stack.push('A')\n",
    "stack.push('B')\n",
    "stack.push('D')\n",
    "stack.push('C')\n",
    "stack.get_stack()"
   ]
  },
  {
   "cell_type": "code",
   "execution_count": 13,
   "id": "1f0ad54f",
   "metadata": {},
   "outputs": [
    {
     "data": {
      "text/plain": [
       "['A', 'B', 'D']"
      ]
     },
     "execution_count": 13,
     "metadata": {},
     "output_type": "execute_result"
    }
   ],
   "source": [
    "stack.pop()\n",
    "stack.get_stack()"
   ]
  },
  {
   "cell_type": "markdown",
   "id": "e0700000",
   "metadata": {},
   "source": [
    "<hr>"
   ]
  },
  {
   "cell_type": "markdown",
   "id": "f4dfff7c",
   "metadata": {},
   "source": [
    "## Determine if Brackets are Balanced\n"
   ]
  },
  {
   "cell_type": "markdown",
   "id": "55974258",
   "metadata": {},
   "source": [
    "Pada bagian ini kita akan belajar bagaimana menentukan apakah sebuah set kurung itu seimbang atau tidak."
   ]
  },
  {
   "cell_type": "markdown",
   "id": "13be4430",
   "metadata": {},
   "source": [
    "### Contoh kurung yang seimbang\n",
    "- {}\n",
    "- {}{}\n",
    "- (({[]}))\n",
    "### Contoh kurung yang tidak seimbang\n",
    "- (()\n",
    "- {{{)}]\n",
    "- [][]]]"
   ]
  },
  {
   "cell_type": "code",
   "execution_count": 45,
   "id": "1b4aedb6",
   "metadata": {},
   "outputs": [],
   "source": [
    "def is_paren_balance(paren_string):\n",
    "    s = Stack()\n",
    "    is_balanced = True\n",
    "    index = 0\n",
    "\n",
    "    while index < len(paren_string) and is_balanced:\n",
    "        paren = paren_string[index]\n",
    "        if paren in \"([{\":\n",
    "            s.push(paren)\n",
    "        else:\n",
    "            if s.is_empty():\n",
    "                is_balanced = False\n",
    "                break\n",
    "            else:\n",
    "                top = s.pop()\n",
    "                if not is_match(top, paren):\n",
    "                    is_balanced = False\n",
    "                    break\n",
    "        index += 1\n",
    "\n",
    "    if s.is_empty and is_balanced:\n",
    "        return True\n",
    "    else:\n",
    "        return False"
   ]
  },
  {
   "cell_type": "code",
   "execution_count": 49,
   "id": "f623a4c8",
   "metadata": {},
   "outputs": [],
   "source": [
    "def is_match(p1, p2):\n",
    "    if p1 == \"(\" and p2 == \")\":\n",
    "        return True\n",
    "    elif p1 == \"{\" and p2 == \"}\":\n",
    "        return True\n",
    "    elif p1 == \"[\" and p2 == \"]\":\n",
    "        return True\n",
    "    else:\n",
    "        return False"
   ]
  },
  {
   "cell_type": "code",
   "execution_count": 50,
   "id": "c96c576c",
   "metadata": {},
   "outputs": [
    {
     "data": {
      "text/plain": [
       "False"
      ]
     },
     "execution_count": 50,
     "metadata": {},
     "output_type": "execute_result"
    }
   ],
   "source": [
    "is_paren_balance(\"{{}}}\")"
   ]
  },
  {
   "cell_type": "code",
   "execution_count": 51,
   "id": "a736a007",
   "metadata": {},
   "outputs": [
    {
     "data": {
      "text/plain": [
       "True"
      ]
     },
     "execution_count": 51,
     "metadata": {},
     "output_type": "execute_result"
    }
   ],
   "source": [
    "is_paren_balance(\"{{}}\")"
   ]
  },
  {
   "cell_type": "markdown",
   "id": "25e108d3",
   "metadata": {},
   "source": [
    "### Penjelasan\n",
    "\n",
    "1. Pada baris 2-4, kita mendeklarasikan `Stack()` sebagai `s` dan dua variabel `is_balanced` dan `index`, yang masing-masing disetel ke nilai `True` dan `0`.\n",
    "\n",
    "2. `While loop` pada baris 6 akan dijalankan jika indeks kurang dari `panjang paren-string` dan `is_balanced` sama dengan `True`. Jika salah satu kondisi bernilai `False`, program kita akan keluar/berhenti dari `while loop`. Dalam `while loop`, kita mengulang setiap karakter `paren_string` dengan mengindeks menggunakan variabel indeks dan menyimpan elemen yang diindeks dalam variabel `paren`.\n",
    "\n",
    "3. Kita memeriksa di baris 8 apakah `paren` adalah **semua jenis kurung buka** `({[` dan jika ya, kita mamsukannya ke `s/Stack()`. **Jika bukan salah satu jenis tanda kurung buka**, kita periksa apakah `Stack is_empty()?` dan setel `is_balanced` ke `False`. Ini menangani kasus yang telah kita bahas di bagian sebelumnya (`while loop`).\n",
    "\n",
    "4. Jika `Stack()` tidak kosong, kita `ambil/pop` elemen atas dan periksa apakah tanda kurung saat ini, yaitu, kurung tutup cocok dengan jenis elemen atas yang seharusnya menjadi kurung buka. Jika jenisnya tidak cocok, maka kita memperbarui `is_balanced` menjadi `False`.\n",
    "\n",
    "5. Kita menaikkan `indeks` untuk iterasi berikutnya. Perulangan `while` terus berjalan sampai **`indeks` sama dengan atau lebih besar dari panjang paren_string** atau **is_balanced == False**.\n",
    "\n",
    "6. Setelah kita keluar dari while loop, pada baris 21, kita periksa apakah `stack` kosong dan `is_balanced` adalah `True`, lalu kita kembalikan `True`. Jika tidak, kita mengembalikan nilai `False`.\n",
    "\n",
    "Kode yang diberikan di atas adalah implementasi sederhana dari algoritme yang Anda perkenalkan.\n"
   ]
  },
  {
   "cell_type": "markdown",
   "id": "79ff0062",
   "metadata": {},
   "source": [
    "<hr>"
   ]
  }
 ],
 "metadata": {
  "kernelspec": {
   "display_name": "Python 3",
   "language": "python",
   "name": "python3"
  },
  "language_info": {
   "codemirror_mode": {
    "name": "ipython",
    "version": 3
   },
   "file_extension": ".py",
   "mimetype": "text/x-python",
   "name": "python",
   "nbconvert_exporter": "python",
   "pygments_lexer": "ipython3",
   "version": "3.7.1"
  }
 },
 "nbformat": 4,
 "nbformat_minor": 5
}
