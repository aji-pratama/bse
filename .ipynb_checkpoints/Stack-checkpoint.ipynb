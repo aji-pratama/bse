{
 "cells": [
  {
   "cell_type": "markdown",
   "id": "0bb6919e",
   "metadata": {},
   "source": [
    "Misalnya kita memiliki setumpuk buku yang bagus dan rapi! Jika kita ingin mengambil sebuah buku dari tumpukan ini, kita dapat mengambil buku itu di atas. Mengambil buku dari bawah agak genting dan kami tidak ingin menjatuhkan seluruh tumpukan. Oleh karena itu, kami akan menurunkan buku teratas di tumpukan dan membacanya atau melakukan apa pun yang ingin kami lakukan dengannya.\n",
    "\n",
    "Misalnya kita ingin mengambil Buku A. Itu ada di bagian bawah tumpukan, jadi kita perlu mengambil Buku D, meletakkannya, lalu melakukan hal yang sama untuk Buku C dan Buku B, dan kemudian kita dapat mengakses Buku SEBUAH.\n",
    "\n",
    "Ini adalah ide utama dari tumpukan. Tumpukan struktur data sangat mirip dengan tumpukan fisik yang kemungkinan besar Anda kenal. Struktur data tumpukan memungkinkan kita untuk menempatkan artefak, variabel, atau objek pemrograman apa pun di atasnya, seperti contoh tumpukan yang memungkinkan kita untuk meletakkan buku di dalamnya."
   ]
  },
  {
   "cell_type": "markdown",
   "id": "dccbc614",
   "metadata": {},
   "source": [
    "### Push\n",
    "Operasi untuk memasukkan elemen dalam tumpukan disebut push. Saat kita mendorong buku di atas tumpukan, kita meletakkan buku di elemen atas sebelumnya yang berarti buku baru menjadi elemen teratas. Inilah yang kami maksud ketika kami menggunakan operasi dorong, kami mendorong elemen ke tumpukan. Kami memasukkan elemen ke tumpukan dan elemen terakhir yang akan didorong adalah bagian atas tumpukan yang baru.\n",
    "\n",
    "### Pop\n",
    "Ada operasi lain yang bisa kita lakukan di stack, popping. Popping adalah saat kita mengambil bagian atas buku dari tumpukan dan meletakkannya. Ini menyiratkan bahwa ketika kita menghapus elemen dari tumpukan, tumpukan mengikuti properti First-In, Last Out. Ini berarti bahwa elemen teratas, yang terakhir disisipkan, dihapus saat kita melakukan operasi pop.\n",
    "\n",
    "Push dan Pop adalah dua rutinitas mendasar yang kita perlukan untuk struktur data ini.\n",
    "\n",
    "### Peek\n",
    "Hal lain yang dapat kita lakukan adalah melihat elemen teratas tumpukan sehingga kita dapat menanyakan struktur data: \"Apa elemen teratas?\" dan itu dapat memberikan itu kepada kami menggunakan operasi intip. Perhatikan bahwa operasi intip tidak menghapus elemen teratas, ini hanya mengembalikannya.\n",
    "\n",
    "Kita juga dapat memeriksa apakah tumpukan itu kosong atau tidak, dan beberapa hal lain juga, yang akan muncul saat kami menerapkannya."
   ]
  },
  {
   "cell_type": "code",
   "execution_count": 2,
   "id": "39d11d02",
   "metadata": {},
   "outputs": [],
   "source": [
    "class Stack:\n",
    "    \n",
    "    def __init__(self):\n",
    "        self.items = []\n",
    "\n",
    "    def push(self, item):\n",
    "        self.items.append(item)\n",
    "        \n",
    "    def pop(self):\n",
    "        return self.items.pop()\n",
    "    "
   ]
  },
  {
   "cell_type": "markdown",
   "id": "79ff0062",
   "metadata": {},
   "source": [
    "<hr>"
   ]
  },
  {
   "cell_type": "markdown",
   "id": "7bf6a716",
   "metadata": {},
   "source": [
    "### ***Area for research***"
   ]
  },
  {
   "cell_type": "code",
   "execution_count": 6,
   "id": "51131278",
   "metadata": {},
   "outputs": [
    {
     "data": {
      "text/plain": [
       "['A', 'B', 'C', 'D']"
      ]
     },
     "execution_count": 6,
     "metadata": {},
     "output_type": "execute_result"
    }
   ],
   "source": [
    "# append is add in last item\n",
    "test_array = ['A', 'B', 'C']\n",
    "test_array.append('D')\n",
    "test_array"
   ]
  },
  {
   "cell_type": "code",
   "execution_count": null,
   "id": "c9310b02",
   "metadata": {},
   "outputs": [],
   "source": []
  }
 ],
 "metadata": {
  "kernelspec": {
   "display_name": "Python 3",
   "language": "python",
   "name": "python3"
  },
  "language_info": {
   "codemirror_mode": {
    "name": "ipython",
    "version": 3
   },
   "file_extension": ".py",
   "mimetype": "text/x-python",
   "name": "python",
   "nbconvert_exporter": "python",
   "pygments_lexer": "ipython3",
   "version": "3.7.1"
  }
 },
 "nbformat": 4,
 "nbformat_minor": 5
}
